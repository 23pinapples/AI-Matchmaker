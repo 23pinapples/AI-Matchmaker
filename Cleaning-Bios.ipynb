{
 "cells": [
  {
   "cell_type": "markdown",
   "metadata": {},
   "source": [
    "# Cleaning the Bios\n",
    "Vectorizing the bios"
   ]
  },
  {
   "cell_type": "markdown",
   "metadata": {},
   "source": [
    "### Importing Libraries"
   ]
  },
  {
   "cell_type": "code",
   "execution_count": 37,
   "metadata": {},
   "outputs": [],
   "source": [
    "import pandas as pd\n",
    "import numpy as np\n",
    "import matplotlib.pyplot as plt\n",
    "import seaborn as sns\n",
    "import _pickle as pickle\n",
    "from nltk.stem import WordNetLemmatizer\n",
    "from nltk import FreqDist"
   ]
  },
  {
   "cell_type": "markdown",
   "metadata": {},
   "source": [
    "### Loading the Data"
   ]
  },
  {
   "cell_type": "code",
   "execution_count": 24,
   "metadata": {},
   "outputs": [],
   "source": [
    "with open(\"profiles.pkl\",'rb') as fp:\n",
    "    df = pickle.load(fp)"
   ]
  },
  {
   "cell_type": "markdown",
   "metadata": {},
   "source": [
    "## Cleaning the Text"
   ]
  },
  {
   "cell_type": "code",
   "execution_count": 25,
   "metadata": {},
   "outputs": [],
   "source": [
    "lemmatizer = WordNetLemmatizer()"
   ]
  },
  {
   "cell_type": "code",
   "execution_count": 26,
   "metadata": {},
   "outputs": [],
   "source": [
    "def tokenize(text):\n",
    "    \"\"\"\n",
    "    Tokenizing the bios, then lemmatizing them\n",
    "    \"\"\"\n",
    "    \n",
    "    # Lowercasing the words\n",
    "    text = text.lower()\n",
    "    \n",
    "    # Removing the punctuations (periods)\n",
    "    text = text.replace('.', '')\n",
    "    \n",
    "    # Splitting on spaces between words\n",
    "    text = text.split(' ')\n",
    "    \n",
    "    # Lemmatizing the words\n",
    "    text = [lemmatizer.lemmatize(i) for i in text]\n",
    "    \n",
    "    return text\n",
    "    "
   ]
  },
  {
   "cell_type": "code",
   "execution_count": 27,
   "metadata": {
    "scrolled": true
   },
   "outputs": [],
   "source": [
    "df['Bios'] = df.Bios.apply(tokenize)"
   ]
  },
  {
   "cell_type": "markdown",
   "metadata": {},
   "source": [
    "### Most Frequent Words"
   ]
  },
  {
   "cell_type": "code",
   "execution_count": 36,
   "metadata": {},
   "outputs": [
    {
     "name": "stdout",
     "output_type": "stream",
     "text": [
      "Number of unique words:  110\n"
     ]
    }
   ],
   "source": [
    "total_vocab = set()\n",
    "\n",
    "for bio in df['Bios']:\n",
    "    total_vocab.update(bio)\n",
    "        \n",
    "print(\"Number of unique words: \",len(total_vocab))"
   ]
  },
  {
   "cell_type": "code",
   "execution_count": 51,
   "metadata": {
    "scrolled": true
   },
   "outputs": [
    {
     "data": {
      "text/plain": [
       "[('fanatic', 2241),\n",
       " ('travel', 1737),\n",
       " ('music', 1681),\n",
       " ('food', 1657),\n",
       " ('social', 1654),\n",
       " ('zombie', 1652),\n",
       " ('pop', 1645),\n",
       " ('tv', 1636),\n",
       " ('twitter', 1622),\n",
       " ('coffee', 1617),\n",
       " ('web', 1612),\n",
       " ('beer', 1605),\n",
       " ('bacon', 1585),\n",
       " ('medium', 1577),\n",
       " ('alcohol', 1574),\n",
       " ('culture', 1572),\n",
       " ('internet', 1534),\n",
       " ('expert', 1183),\n",
       " ('geek', 1165),\n",
       " ('buff', 1164),\n",
       " ('lover', 1159),\n",
       " ('guru', 1158),\n",
       " ('fan', 1157),\n",
       " ('ninja', 1143),\n",
       " ('scholar', 1142),\n",
       " ('trailblazer', 1138),\n",
       " ('maven', 1137),\n",
       " ('junkie', 1134),\n",
       " ('specialist', 1119),\n",
       " ('advocate', 1116),\n",
       " ('enthusiast', 1108),\n",
       " ('practitioner', 1105),\n",
       " ('nerd', 1101),\n",
       " ('aficionado', 1099),\n",
       " ('evangelist', 1092),\n",
       " ('introvert', 861),\n",
       " ('gamer', 853),\n",
       " ('reader', 850),\n",
       " ('communicator', 829),\n",
       " ('writer', 815),\n",
       " ('creator', 815),\n",
       " ('student', 808),\n",
       " ('explorer', 806),\n",
       " ('thinker', 805),\n",
       " ('analyst', 804),\n",
       " ('certified', 793),\n",
       " ('troublemaker', 787),\n",
       " ('general', 786),\n",
       " ('organizer', 781),\n",
       " ('problem', 770),\n",
       " ('solver', 770),\n",
       " ('devoted', 761),\n",
       " ('lifelong', 757),\n",
       " ('proud', 750),\n",
       " ('avid', 745),\n",
       " ('friendly', 745),\n",
       " ('hardcore', 742),\n",
       " ('professional', 741),\n",
       " ('wannabe', 738),\n",
       " ('extreme', 736),\n",
       " ('freelance', 735),\n",
       " ('passionate', 732),\n",
       " ('entrepreneur', 731),\n",
       " ('award-winning', 723),\n",
       " ('typical', 722),\n",
       " ('evil', 722),\n",
       " ('total', 711),\n",
       " ('hipster-friendly', 708),\n",
       " ('subtly', 707),\n",
       " ('charming', 707),\n",
       " ('amateur', 704),\n",
       " ('unapologetic', 693),\n",
       " ('incurable', 675),\n",
       " ('infuriatingly', 633),\n",
       " ('humble', 633),\n",
       " ('of', 408),\n",
       " ('to', 382),\n",
       " ('future', 213),\n",
       " ('teen', 213),\n",
       " ('idol', 213),\n",
       " ('prone', 208),\n",
       " ('fit', 208),\n",
       " ('apathy', 208),\n",
       " ('fall', 207),\n",
       " ('down', 207),\n",
       " ('a', 207),\n",
       " ('lot', 207),\n",
       " ('friend', 200),\n",
       " ('animal', 200),\n",
       " ('everywhere', 200),\n",
       " ('unable', 174),\n",
       " ('type', 174),\n",
       " ('with', 174),\n",
       " ('boxing', 174),\n",
       " ('glove', 174),\n",
       " ('on', 174),\n",
       " ('zombieaholic', 99),\n",
       " ('musicaholic', 95),\n",
       " ('beeraholic', 93),\n",
       " ('coffeeaholic', 87),\n",
       " ('foodaholic', 85),\n",
       " ('twitteraholic', 84),\n",
       " ('webaholic', 84),\n",
       " ('alcoholaholic', 82),\n",
       " ('tvaholic', 80),\n",
       " ('baconaholic', 78),\n",
       " ('mediaholic', 77),\n",
       " ('internetaholic', 75),\n",
       " ('cultureaholic', 73),\n",
       " ('travelaholic', 55)]"
      ]
     },
     "execution_count": 51,
     "metadata": {},
     "output_type": "execute_result"
    }
   ],
   "source": [
    "# Determining the most frequent words in user bios\n",
    "words = []\n",
    "\n",
    "for bio in df['Bios']:\n",
    "    words.extend(bio)\n",
    "\n",
    "bio_freq = FreqDist(words)\n",
    "bio_freq.most_common(110)"
   ]
  },
  {
   "cell_type": "markdown",
   "metadata": {},
   "source": [
    "### Plotting the Most Frequent Words"
   ]
  },
  {
   "cell_type": "code",
   "execution_count": 76,
   "metadata": {},
   "outputs": [
    {
     "data": {
      "image/png": "[encoded data removed]",
      "text/plain": [
       "<Figure size 1008x360 with 1 Axes>"
      ]
     },
     "metadata": {},
     "output_type": "display_data"
    }
   ],
   "source": [
    "plt.style.use('ggplot')\n",
    "plt.figure(figsize=(14,5))\n",
    "\n",
    "plt.bar(*zip(*bio_freq.most_common(25)))\n",
    "plt.xticks(rotation=75)\n",
    "plt.title('Most Frequently Used Words in User Bios')\n",
    "plt.show()"
   ]
  },
  {
   "cell_type": "code",
   "execution_count": null,
   "metadata": {},
   "outputs": [],
   "source": []
  },
  {
   "cell_type": "code",
   "execution_count": null,
   "metadata": {},
   "outputs": [],
   "source": []
  }
 ],
 "metadata": {
  "kernelspec": {
   "display_name": "Python 3",
   "language": "python",
   "name": "python3"
  },
  "language_info": {
   "codemirror_mode": {
    "name": "ipython",
    "version": 3
   },
   "file_extension": ".py",
   "mimetype": "text/x-python",
   "name": "python",
   "nbconvert_exporter": "python",
   "pygments_lexer": "ipython3",
   "version": "3.7.3"
  }
 },
 "nbformat": 4,
 "nbformat_minor": 2
}
